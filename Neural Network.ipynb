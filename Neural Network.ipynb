{
 "cells": [
  {
   "cell_type": "code",
   "execution_count": null,
   "id": "617b8ec5",
   "metadata": {},
   "outputs": [],
   "source": [
    "import warnings\n",
    "warnings.filterwarnings('ignore')\n",
    "import numpy as np\n",
    "import pandas as pd\n",
    "import seaborn as sns; sns.set()\n",
    "from matplotlib import pyplot as plt\n",
    "%config InlineBackend.figure_format = 'retina'"
   ]
  },
  {
   "cell_type": "code",
   "execution_count": null,
   "id": "c9850541",
   "metadata": {},
   "outputs": [],
   "source": [
    "import pandas as pd\n",
    "data = pd.read_csv('Soil_moisture_project.csv')\n",
    "# print(data.info())\n",
    "\n",
    "\n",
    "y1 = data['Soil Moisture 10cm,%']\n",
    "y2 = data['Soil Moisture 20cm,%']\n",
    "\n",
    "data.drop(['Date', 'Plot_Name'], axis=1, inplace=True)\n",
    "# print(data.head())"
   ]
  },
  {
   "cell_type": "code",
   "execution_count": null,
   "id": "1197850d",
   "metadata": {},
   "outputs": [],
   "source": [
    "from keras.callbacks import ModelCheckpoint\n",
    "from keras.models import Sequential\n",
    "from keras.layers import Dense, Activation, Flatten\n",
    "from sklearn.model_selection import train_test_split\n",
    "from sklearn.ensemble import RandomForestRegressor\n",
    "from sklearn.metrics import mean_absolute_error \n",
    "\n",
    "checkpoint_name = 'Weights-{epoch:03d}--{val_loss:.5f}.hdf5' \n",
    "checkpoint = ModelCheckpoint(checkpoint_name, monitor='val_loss', verbose = 1, save_best_only = True, mode ='auto')\n",
    "callbacks_list = [checkpoint]"
   ]
  },
  {
   "cell_type": "code",
   "execution_count": null,
   "id": "80b672d2",
   "metadata": {},
   "outputs": [],
   "source": [
    "from keras.callbacks import ModelCheckpoint\n",
    "from keras.models import Sequential\n",
    "from keras.layers import Dense, Activation, Flatten\n",
    "from sklearn.model_selection import train_test_split\n",
    "from sklearn.ensemble import RandomForestRegressor\n",
    "from sklearn.metrics import mean_absolute_error \n",
    "\n",
    "#splitting dataset before applying NN\n",
    "X_train, X_holdout, y_train, y_holdout = train_test_split(data.values, y1, test_size=0.3,random_state=17)\n",
    "NN_model = Sequential()\n",
    "\n",
    "# The Input Layer :\n",
    "NN_model.add(Dense(50, kernel_initializer='normal',input_dim = X_train.shape[1], activation='relu'))\n",
    "\n",
    "# The Hidden Layers :\n",
    "NN_model.add(Dense(100, kernel_initializer='normal',activation='relu'))\n",
    "NN_model.add(Dense(100, kernel_initializer='normal',activation='relu'))\n",
    "NN_model.add(Dense(100, kernel_initializer='normal',activation='relu'))\n",
    "\n",
    "# The Output Layer :\n",
    "NN_model.add(Dense(1, kernel_initializer='normal',activation='linear'))\n",
    "\n",
    "# Compile the network :\n",
    "NN_model.compile(loss='mean_absolute_error', optimizer='adam', metrics=['mean_absolute_error'])\n",
    "NN_model.summary()\n",
    "\n",
    "NN_model.fit(X_train, y_train, epochs=200, batch_size=32, validation_split = 0.2, callbacks=callbacks_list)\n"
   ]
  },
  {
   "cell_type": "code",
   "execution_count": null,
   "id": "423f546a",
   "metadata": {},
   "outputs": [],
   "source": [
    "predictions_test = NN_model.predict(X_holdout)\n",
    "# predictions_test = NN_model.predict(X_train)\n",
    "\n",
    "\n",
    "plt.scatter(predictions_test,y_holdout)\n"
   ]
  },
  {
   "cell_type": "code",
   "execution_count": null,
   "id": "5bd1d036",
   "metadata": {},
   "outputs": [],
   "source": [
    "from scipy import stats\n",
    "x=y_holdout\n",
    "y=np.reshape(predictions_test,(32,))\n",
    "slope, intercept, r_value, p_value, std_err = stats.linregress(x,y)\n",
    "line = slope * x+intercept\n",
    "def plot_scatter(axes,x,y,color,xlabel,ylabel,title):\n",
    "    axes.scatter(x,y,color=color,s=9)\n",
    "    axes.set_xlabel(xlabel)\n",
    "    axes.set_ylabel(ylabel)\n",
    "    axes.tick_params('x',direction='in')\n",
    "    axes.tick_params('y',direction='in')\n",
    "    axes.set_title(title)\n",
    "\n",
    "fig,ax1=plt.subplots(figsize=(9,6))\n",
    "plot_scatter(ax1,y_holdout,predictions_test,'b','Actual[%]','Prediction[%]','Soil Moisture at 10cm')\n",
    "ax1.plot(x, line, 'orange',linestyle='None', label='y={:.2f}x+({:.2f})\\nR2={:.4f}'.format(slope,intercept,r_value))\n",
    "ax1.set_xlim(10,28)\n",
    "ax1.set_ylim(10,28)\n",
    "ax1.plot( [10,28],[10,28],color='r')\n",
    "ax1.tick_params(direction='in')\n",
    "plt.legend()\n",
    "\n",
    "# plt.savefig('soil_moisture_10cm.png',dpi=300)\n"
   ]
  },
  {
   "cell_type": "markdown",
   "id": "21ea09f0",
   "metadata": {},
   "source": [
    "For 20 cm depth"
   ]
  },
  {
   "cell_type": "code",
   "execution_count": null,
   "id": "9d9d95e0",
   "metadata": {},
   "outputs": [],
   "source": [
    "#splitting dataset before applying NN\n",
    "X_train, X_holdout, y_train, y_holdout = train_test_split(data.values, y2, test_size=0.3,random_state=17)\n",
    "NN_model = Sequential()\n",
    "\n",
    "# The Input Layer :\n",
    "NN_model.add(Dense(128, kernel_initializer='normal',input_dim = X_train.shape[1], activation='relu'))\n",
    "\n",
    "# The Hidden Layers :\n",
    "NN_model.add(Dense(256, kernel_initializer='normal',activation='relu'))\n",
    "NN_model.add(Dense(256, kernel_initializer='normal',activation='relu'))\n",
    "NN_model.add(Dense(256, kernel_initializer='normal',activation='relu'))\n",
    "\n",
    "# The Output Layer :\n",
    "NN_model.add(Dense(1, kernel_initializer='normal',activation='linear'))\n",
    "\n",
    "# Compile the network :\n",
    "NN_model.compile(loss='mean_absolute_error', optimizer='adam', metrics=['mean_absolute_error'])\n",
    "NN_model.summary()\n",
    "\n",
    "NN_model.fit(X_train, y_train, epochs=700, batch_size=32, validation_split = 0.2, callbacks=callbacks_list)\n"
   ]
  },
  {
   "cell_type": "code",
   "execution_count": null,
   "id": "bd99b44d",
   "metadata": {},
   "outputs": [],
   "source": [
    "from scipy import stats\n",
    "predictions_test = NN_model.predict(X_holdout)\n",
    "x=y_holdout\n",
    "print(y_holdout.shape)\n",
    "y=np.reshape(predictions_test,(32,))\n",
    "slope, intercept, r_value, p_value, std_err = stats.linregress(x,y)\n",
    "line = slope * x+intercept\n",
    "def plot_scatter(axes,x,y,color,xlabel,ylabel,title):\n",
    "    axes.scatter(x,y,color=color,s=9)\n",
    "    axes.set_xlabel(xlabel)\n",
    "    axes.set_ylabel(ylabel)\n",
    "    axes.tick_params('x',direction='in')\n",
    "    axes.tick_params('y',direction='in')\n",
    "    axes.set_title(title)\n",
    "\n",
    "fig,ax1=plt.subplots(figsize=(9,6))\n",
    "plot_scatter(ax1,y_holdout,predictions_test,'b','Actual[%]','Prediction[%]','Soil Moisture at 20cm')\n",
    "ax1.plot(x, line, 'g',linestyle='None', label='y={:.2f}x+({:.2f})\\nR2={:.4f}'.format(slope,intercept,r_value))\n",
    "ax1.set_xlim(18,32)\n",
    "ax1.set_ylim(18,32)\n",
    "ax1.plot( [18,32],[18,32],color='r')\n",
    "ax1.tick_params(direction='in')\n",
    "plt.legend()\n",
    "\n",
    "# plt.savefig('soil_moisture_20cm.png',dpi=300)"
   ]
  },
  {
   "cell_type": "code",
   "execution_count": null,
   "id": "ff98ee59",
   "metadata": {},
   "outputs": [],
   "source": []
  }
 ],
 "metadata": {
  "kernelspec": {
   "display_name": "Python 3 (ipykernel)",
   "language": "python",
   "name": "python3"
  },
  "language_info": {
   "codemirror_mode": {
    "name": "ipython",
    "version": 3
   },
   "file_extension": ".py",
   "mimetype": "text/x-python",
   "name": "python",
   "nbconvert_exporter": "python",
   "pygments_lexer": "ipython3",
   "version": "3.9.7"
  }
 },
 "nbformat": 4,
 "nbformat_minor": 5
}
